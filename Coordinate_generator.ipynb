{
  "nbformat": 4,
  "nbformat_minor": 0,
  "metadata": {
    "colab": {
      "provenance": [],
      "collapsed_sections": []
    },
    "kernelspec": {
      "name": "python3",
      "display_name": "Python 3"
    },
    "language_info": {
      "name": "python"
    }
  },
  "cells": [
    {
      "cell_type": "code",
      "source": [
        "#Co-ordinates for Rwanda\n",
        "\n",
        "l_top = [-1.734857, 29.925360]\n",
        "r_top = [-1.734857, 30.287909]\n",
        "l_bottom = [-2.168028, 29.925360]\n",
        "r_bottom = [-2.168028,30.287909]"
      ],
      "metadata": {
        "id": "j57KRVtT6ESv"
      },
      "execution_count": 1,
      "outputs": []
    },
    {
      "cell_type": "code",
      "source": [
        "#Getting horizontal and vertical distances in degrees\n",
        "hor_dist_deg = r_top[1]-l_top[1]\n",
        "ver_dist_deg = l_top[0]-l_bottom[0]"
      ],
      "metadata": {
        "id": "Z95pC_lP7ZRJ"
      },
      "execution_count": 2,
      "outputs": []
    },
    {
      "cell_type": "code",
      "source": [
        "#Dividing the area into 100 tiles\n",
        "\n",
        "a = hor_dist_deg/10\n",
        "b = ver_dist_deg/10\n",
        "\n",
        "list_cords = []\n",
        "\n",
        "def square_gen(list_left_top):\n",
        "  for i in range(10):\n",
        "    for j in range(10):\n",
        "      left_top = [list_left_top[0]-j*b, list_left_top[1]+i*a]\n",
        "      right_top = [list_left_top[0]-j*b, list_left_top[1]+(1+i)*a]\n",
        "      left_bottom = [list_left_top[0]-(1+j)*b, list_left_top[1]+i*a]\n",
        "      right_bottom = [list_left_top[0]-s(1+j)*b, list_left_top[1]+(1+i)*a]\n",
        "      list_cords.append([left_top,right_top,left_bottom,right_bottom])"
      ],
      "metadata": {
        "id": "QN_KU3k6-zGT"
      },
      "execution_count": 15,
      "outputs": []
    },
    {
      "cell_type": "code",
      "source": [
        "square_gen(l_top)"
      ],
      "metadata": {
        "id": "1VCDyErtCVqD"
      },
      "execution_count": 16,
      "outputs": []
    },
    {
      "cell_type": "code",
      "source": [
        "#Checking whether first tile is correct\n",
        "list_cords[0]\n"
      ],
      "metadata": {
        "colab": {
          "base_uri": "https://localhost:8080/"
        },
        "id": "Sed4j6fPCWqW",
        "outputId": "043779f3-697f-410b-ff12-48a8ee120654"
      },
      "execution_count": 19,
      "outputs": [
        {
          "output_type": "execute_result",
          "data": {
            "text/plain": [
              "[[-1.734857, 29.92536],\n",
              " [-1.734857, 29.9616149],\n",
              " [-1.7781741000000002, 29.92536],\n",
              " [-1.7781741000000002, 29.9616149]]"
            ]
          },
          "metadata": {},
          "execution_count": 19
        }
      ]
    },
    {
      "cell_type": "code",
      "source": [
        "#Checking whether last tile is correct\n",
        "list_cords[99]"
      ],
      "metadata": {
        "colab": {
          "base_uri": "https://localhost:8080/"
        },
        "id": "1hmHWqiNCdNa",
        "outputId": "c95b8be6-65d5-425b-8443-7f78c9c1f4f2"
      },
      "execution_count": 20,
      "outputs": [
        {
          "output_type": "execute_result",
          "data": {
            "text/plain": [
              "[[-2.1247109, 30.2516541],\n",
              " [-2.1247109, 30.287909],\n",
              " [-2.168028, 30.2516541],\n",
              " [-2.168028, 30.287909]]"
            ]
          },
          "metadata": {},
          "execution_count": 20
        }
      ]
    },
    {
      "cell_type": "code",
      "source": [],
      "metadata": {
        "id": "vP15_lN5Cs5y"
      },
      "execution_count": null,
      "outputs": []
    }
  ]
}