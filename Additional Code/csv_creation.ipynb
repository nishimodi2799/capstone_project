{
  "nbformat": 4,
  "nbformat_minor": 2,
  "metadata": {
    "colab": {
      "provenance": [],
      "collapsed_sections": []
    },
    "kernelspec": {
      "name": "python3",
      "display_name": "Python 3"
    },
    "language_info": {
      "name": "python"
    }
  },
  "cells": [
    {
      "cell_type": "code",
      "execution_count": 33,
      "source": [
        "import csv\n",
        "import os\n",
        "import pandas as pd\n",
        "import numpy as np\n",
        "import rasterio"
      ],
      "outputs": [],
      "metadata": {
        "id": "9XLtSvFEcy3E"
      }
    },
    {
      "cell_type": "code",
      "execution_count": 21,
      "source": [
        "from google.colab import drive\n",
        "drive.mount('/content/drive')"
      ],
      "outputs": [
        {
          "output_type": "stream",
          "name": "stdout",
          "text": [
            "Drive already mounted at /content/drive; to attempt to forcibly remount, call drive.mount(\"/content/drive\", force_remount=True).\n"
          ]
        }
      ],
      "metadata": {
        "colab": {
          "base_uri": "https://localhost:8080/"
        },
        "id": "uPcvbFDoc8h0",
        "outputId": "6840bba0-21af-44b4-809c-6981918b4f29"
      }
    },
    {
      "cell_type": "code",
      "execution_count": 28,
      "source": [
        "# 2016\n",
        "image_1 = []\n",
        "label_1 = []\n",
        "group_1 = []\n",
        "image_path = '/content/drive/MyDrive/GEE_regen'\n",
        "label_path = '/content/drive/MyDrive/GEE_Dynamic_2016_three_class'\n",
        "for filename in os.listdir(image_path):\n",
        "  image_1.append(os.path.join(image_path,filename))\n",
        "for filename in os.listdir(label_path):\n",
        "  label_1.append(os.path.join(label_path,filename))\n",
        "  group_1.append(0)\n",
        "df_2016 = pd.DataFrame (list(zip(image_1, label_1, group_1)), columns = ['image_fn', 'label_fn', 'group'])\n",
        "df_2016.to_csv('data_2016.csv')\n",
        "!cp data_2016.csv \"drive/My Drive/\""
      ],
      "outputs": [],
      "metadata": {
        "id": "TdexKBGcfSmX"
      }
    },
    {
      "cell_type": "code",
      "execution_count": 29,
      "source": [
        "# 2019\n",
        "image_2 = []\n",
        "label_2 = []\n",
        "group_2 = []\n",
        "image_path = '/content/drive/MyDrive/GEE_2019_final'\n",
        "label_path = '/content/drive/MyDrive/GEE_Dynamic_2019_three_class'\n",
        "for filename in os.listdir(image_path):\n",
        "  image_2.append(os.path.join(image_path,filename))\n",
        "for filename in os.listdir(label_path):\n",
        "  label_2.append(os.path.join(label_path,filename))\n",
        "  group_2.append(1)\n",
        "df_2019 = pd.DataFrame (list(zip(image_2, label_2, group_2)), columns = ['image_fn', 'label_fn', 'group'])\n",
        "df_2019.to_csv('data_2019.csv')\n",
        "!cp data_2019.csv \"drive/My Drive/\""
      ],
      "outputs": [],
      "metadata": {
        "id": "WlNzFn-CgNLo"
      }
    },
    {
      "cell_type": "code",
      "execution_count": 30,
      "source": [
        "# both\n",
        "image_both = []\n",
        "label_both = []\n",
        "group_both = []\n",
        "for value in range(len(image_1)):\n",
        "  image_both.append(image_1[value])\n",
        "  image_both.append(image_2[value])\n",
        "  label_both.append(label_1[value])\n",
        "  label_both.append(label_2[value])\n",
        "  group_both.append(group_1[value])\n",
        "  group_both.append(group_2[value])\n",
        "df_both = pd.DataFrame (list(zip(image_both, label_both, group_both)), columns = ['image_fn', 'label_fn', 'group'])\n",
        "df_both.to_csv('data_both.csv')\n",
        "!cp data_both.csv \"drive/My Drive/\""
      ],
      "outputs": [],
      "metadata": {
        "id": "suLgREUWj5di"
      }
    },
    {
      "cell_type": "code",
      "execution_count": null,
      "source": [
        "# convert tif to png\n",
        "import os\n",
        "from PIL import Image\n",
        "\n",
        "yourpath = os.getcwd()\n",
        "for root, dirs, files in os.walk(yourpath, topdown=False):\n",
        "    for name in files:\n",
        "        print(os.path.join(root, name))\n",
        "        if os.path.splitext(os.path.join(root, name))[1].lower() == \".tiff\":\n",
        "            if os.path.isfile(os.path.splitext(os.path.join(root, name))[0] + \".jpg\"):\n",
        "                print \"A jpeg file already exists for %s\" % name\n",
        "            # If a jpeg is *NOT* present, create one from the tiff.\n",
        "            else:\n",
        "                outfile = os.path.splitext(os.path.join(root, name))[0] + \".jpg\"\n",
        "                try:\n",
        "                    im = Image.open(os.path.join(root, name))\n",
        "                    print \"Generating jpeg for %s\" % name\n",
        "                    im.thumbnail(im.size)\n",
        "                    im.save(outfile, \"JPEG\", quality=100)\n",
        "                except Exception, e:\n",
        "                    print e\n"
      ],
      "outputs": [],
      "metadata": {
        "id": "E-bcNEAwkPCS"
      }
    },
    {
      "cell_type": "code",
      "execution_count": 35,
      "source": [
        "sampled_pixels = []\n",
        "\n",
        "for i, fn in enumerate(image_1):\n",
        "    if i % 100 == 0:\n",
        "        print(i, len(image_1))\n",
        "    with rasterio.open(fn) as f:\n",
        "        data = f.read().reshape(3,-1)\n",
        "        \n",
        "    mask = np.sum(data==0, axis=0) == 3\n",
        "    data = data[:,~mask]\n",
        "    num_samples = min(int(1e5), data.shape[1])\n",
        "    idxs = np.random.choice(data.shape[1], size=num_samples)\n",
        "    \n",
        "    pixels = data[:,idxs]\n",
        "    sampled_pixels.append(pixels)"
      ],
      "outputs": [
        {
          "output_type": "stream",
          "name": "stdout",
          "text": [
            "0 256\n",
            "100 256\n",
            "200 256\n"
          ]
        }
      ],
      "metadata": {
        "colab": {
          "base_uri": "https://localhost:8080/"
        },
        "id": "sS53b06prWzB",
        "outputId": "28c30407-4a48-405f-9cbe-30321f2e84cc"
      }
    },
    {
      "cell_type": "code",
      "execution_count": 36,
      "source": [
        "sampled_pixels = np.concatenate(sampled_pixels, axis=1)"
      ],
      "outputs": [],
      "metadata": {
        "id": "fljeL3h4rYu_"
      }
    },
    {
      "cell_type": "code",
      "execution_count": 37,
      "source": [
        "sampled_pixels.mean(axis=1, dtype=np.float64)"
      ],
      "outputs": [
        {
          "output_type": "execute_result",
          "data": {
            "text/plain": [
              "array([83.17583934, 79.00489238, 55.64901156])"
            ]
          },
          "metadata": {},
          "execution_count": 37
        }
      ],
      "metadata": {
        "colab": {
          "base_uri": "https://localhost:8080/"
        },
        "id": "Eq2SgACHr1-U",
        "outputId": "2164ddb8-162c-41df-8ff0-d2f94df26e95"
      }
    },
    {
      "cell_type": "code",
      "execution_count": 38,
      "source": [
        "sampled_pixels.std(axis=1, dtype=np.float64)"
      ],
      "outputs": [
        {
          "output_type": "execute_result",
          "data": {
            "text/plain": [
              "array([13.82920992,  9.15737738, 10.08831001])"
            ]
          },
          "metadata": {},
          "execution_count": 38
        }
      ],
      "metadata": {
        "colab": {
          "base_uri": "https://localhost:8080/"
        },
        "id": "l92Z2gRXr3iR",
        "outputId": "cac8108c-9ee6-40d3-a54b-a985d3801cd6"
      }
    },
    {
      "cell_type": "code",
      "execution_count": 39,
      "source": [
        "sampled_pixels = []\n",
        "\n",
        "for i, fn in enumerate(image_2):\n",
        "    if i % 100 == 0:\n",
        "        print(i, len(image_2))\n",
        "    with rasterio.open(fn) as f:\n",
        "        data = f.read().reshape(3,-1)\n",
        "        \n",
        "    mask = np.sum(data==0, axis=0) == 3\n",
        "    data = data[:,~mask]\n",
        "    num_samples = min(int(1e5), data.shape[1])\n",
        "    idxs = np.random.choice(data.shape[1], size=num_samples)\n",
        "    \n",
        "    pixels = data[:,idxs]\n",
        "    sampled_pixels.append(pixels)"
      ],
      "outputs": [
        {
          "output_type": "stream",
          "name": "stdout",
          "text": [
            "0 256\n",
            "100 256\n",
            "200 256\n"
          ]
        }
      ],
      "metadata": {
        "colab": {
          "base_uri": "https://localhost:8080/"
        },
        "id": "EPNS7GCPsXog",
        "outputId": "f57c7017-8026-4f41-f225-e44bb679804f"
      }
    },
    {
      "cell_type": "code",
      "execution_count": 40,
      "source": [
        "sampled_pixels = np.concatenate(sampled_pixels, axis=1)"
      ],
      "outputs": [],
      "metadata": {
        "id": "t1jM7bEIsxGY"
      }
    },
    {
      "cell_type": "code",
      "execution_count": 41,
      "source": [
        "sampled_pixels.mean(axis=1, dtype=np.float64)"
      ],
      "outputs": [
        {
          "output_type": "execute_result",
          "data": {
            "text/plain": [
              "array([80.80569512, 79.21879715, 54.69975574])"
            ]
          },
          "metadata": {},
          "execution_count": 41
        }
      ],
      "metadata": {
        "colab": {
          "base_uri": "https://localhost:8080/"
        },
        "id": "A7836KiEsy5t",
        "outputId": "ebfab5eb-146c-41f4-9b0d-60ab677a7692"
      }
    },
    {
      "cell_type": "code",
      "execution_count": 42,
      "source": [
        "sampled_pixels.std(axis=1, dtype=np.float64)"
      ],
      "outputs": [
        {
          "output_type": "execute_result",
          "data": {
            "text/plain": [
              "array([9.3518378 , 5.94109496, 6.79173963])"
            ]
          },
          "metadata": {},
          "execution_count": 42
        }
      ],
      "metadata": {
        "colab": {
          "base_uri": "https://localhost:8080/"
        },
        "id": "nNyjpT9ns1oQ",
        "outputId": "0c5aad58-e967-40a5-e221-8ae60fe6cbb1"
      }
    },
    {
      "cell_type": "code",
      "execution_count": null,
      "source": [
        "img = '/content/00.tif'\n",
        "with rasterio.open(img) as f:\n",
        "  data_img = f.read()\n",
        "data_img = (data_img - sampled_pixels.mean(axis=1, dtype=np.float64))/sampled_pixels.std(axis=1, dtype=np.float64)"
      ],
      "outputs": [],
      "metadata": {
        "id": "uV0W12cpuAOV"
      }
    }
  ]
}