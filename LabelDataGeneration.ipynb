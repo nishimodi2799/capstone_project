{
  "nbformat": 4,
  "nbformat_minor": 0,
  "metadata": {
    "colab": {
      "provenance": [],
      "collapsed_sections": []
    },
    "kernelspec": {
      "name": "python3",
      "display_name": "Python 3"
    },
    "language_info": {
      "name": "python"
    }
  },
  "cells": [
    {
      "cell_type": "code",
      "execution_count": 1,
      "metadata": {
        "colab": {
          "base_uri": "https://localhost:8080/"
        },
        "id": "rVQky1K0QUex",
        "outputId": "f5adfd11-1730-4a83-c0e9-77f5c1f3cceb"
      },
      "outputs": [
        {
          "output_type": "stream",
          "name": "stdout",
          "text": [
            "Mounted at /content/gdrive/\n"
          ]
        }
      ],
      "source": [
        "from google.colab import drive\n",
        "drive.mount(\"/content/gdrive/\")"
      ]
    },
    {
      "cell_type": "markdown",
      "source": [
        "https://stackoverflow.com/questions/6483489/change-specific-rgb-color-pixels-to-another-color-in-image-file"
      ],
      "metadata": {
        "id": "B6rZ-LV_X2Q_"
      }
    },
    {
      "cell_type": "code",
      "source": [
        "import numpy as np\n",
        "from PIL import Image\n",
        "import matplotlib.pyplot as plt\n",
        "\n",
        "for i in range(16):\n",
        "  for j in range(16):\n",
        "    print(i,j)\n",
        "    im = Image.open('gdrive/MyDrive/GEE_DWL_2016/'+str(i)+'_'+str(j)+'.tif')\n",
        "    data = np.array(im)\n",
        "\n",
        "    r1, g1, b1 = 228, 150, 53 # Crops\n",
        "    r2, g2, b2 = 223, 195, 90 # Shrub and scrub\n",
        "\n",
        "    red, green, blue = data[:,:,0], data[:,:,1], data[:,:,2]\n",
        "    mask = (red == r1) & (green == g1) & (blue == b1)\n",
        "    data[:,:,:3][mask] = [r2, g2, b2]\n",
        "\n",
        "    r1, g1, b1 = 179, 159, 225 # snow and ice\n",
        "    r2, g2, b2 = 65, 155, 223 # water\n",
        "\n",
        "    red, green, blue = data[:,:,0], data[:,:,1], data[:,:,2]\n",
        "    mask = (red == r1) & (green == g1) & (blue == b1)\n",
        "    data[:,:,:3][mask] = [r2, g2, b2]\n",
        "\n",
        "    r1, g1, b1 = 165, 155, 143 # bare\n",
        "    r2, g2, b2 = 196, 40, 27 # built\n",
        "\n",
        "    red, green, blue = data[:,:,0], data[:,:,1], data[:,:,2]\n",
        "    mask = (red == r1) & (green == g1) & (blue == b1)\n",
        "    data[:,:,:3][mask] = [r2, g2, b2]\n",
        "\n",
        "    r1, g1, b1 = 136, 176, 83 # grass\n",
        "    r2, g2, b2 = 57, 125, 73 # trees\n",
        "\n",
        "    red, green, blue = data[:,:,0], data[:,:,1], data[:,:,2]\n",
        "    mask = (red == r1) & (green == g1) & (blue == b1)\n",
        "    data[:,:,:3][mask] = [r2, g2, b2]\n",
        "\n",
        "    r1, g1, b1 = 122, 135, 198 # flooded vegetation\n",
        "    r2, g2, b2 = 57, 125, 73 # trees\n",
        "\n",
        "    red, green, blue = data[:,:,0], data[:,:,1], data[:,:,2]\n",
        "    mask = (red == r1) & (green == g1) & (blue == b1)\n",
        "    data[:,:,:3][mask] = [r2, g2, b2]\n",
        "\n",
        "    im = Image.fromarray(data)\n",
        "    im.save(\"gdrive/MyDrive/GEE_Dynamic_2016_four_class/\"+str(i)+'_'+str(j)+'.jpeg')"
      ],
      "metadata": {
        "id": "Mj4Vx3a4QWSx"
      },
      "execution_count": null,
      "outputs": []
    },
    {
      "cell_type": "code",
      "source": [
        "import numpy as np\n",
        "from PIL import Image\n",
        "import matplotlib.pyplot as plt\n",
        "\n",
        "for i in range(16):\n",
        "  for j in range(16):\n",
        "    print(i,j)\n",
        "    im = Image.open('gdrive/MyDrive/GEE_DWL_2019/'+str(i)+'_'+str(j)+'.tif')\n",
        "    data = np.array(im)\n",
        "\n",
        "    r1, g1, b1 = 228, 150, 53 # Crops\n",
        "    r2, g2, b2 = 223, 195, 90 # Shrub and scrub\n",
        "\n",
        "    red, green, blue = data[:,:,0], data[:,:,1], data[:,:,2]\n",
        "    mask = (red == r1) & (green == g1) & (blue == b1)\n",
        "    data[:,:,:3][mask] = [r2, g2, b2]\n",
        "\n",
        "    r1, g1, b1 = 179, 159, 225 # snow and ice\n",
        "    r2, g2, b2 = 65, 155, 223 # water\n",
        "\n",
        "    red, green, blue = data[:,:,0], data[:,:,1], data[:,:,2]\n",
        "    mask = (red == r1) & (green == g1) & (blue == b1)\n",
        "    data[:,:,:3][mask] = [r2, g2, b2]\n",
        "\n",
        "    r1, g1, b1 = 165, 155, 143 # bare\n",
        "    r2, g2, b2 = 196, 40, 27 # built\n",
        "\n",
        "    red, green, blue = data[:,:,0], data[:,:,1], data[:,:,2]\n",
        "    mask = (red == r1) & (green == g1) & (blue == b1)\n",
        "    data[:,:,:3][mask] = [r2, g2, b2]\n",
        "\n",
        "    r1, g1, b1 = 136, 176, 83 # grass\n",
        "    r2, g2, b2 = 57, 125, 73 # trees\n",
        "\n",
        "    red, green, blue = data[:,:,0], data[:,:,1], data[:,:,2]\n",
        "    mask = (red == r1) & (green == g1) & (blue == b1)\n",
        "    data[:,:,:3][mask] = [r2, g2, b2]\n",
        "\n",
        "    r1, g1, b1 = 122, 135, 198 # flooded vegetation\n",
        "    r2, g2, b2 = 57, 125, 73 # trees\n",
        "\n",
        "    red, green, blue = data[:,:,0], data[:,:,1], data[:,:,2]\n",
        "    mask = (red == r1) & (green == g1) & (blue == b1)\n",
        "    data[:,:,:3][mask] = [r2, g2, b2]\n",
        "\n",
        "    im = Image.fromarray(data)\n",
        "    im.save(\"gdrive/MyDrive/GEE_Dynamic_2019_four_class/\"+str(i)+'_'+str(j)+'.jpeg')"
      ],
      "metadata": {
        "id": "CobJNCwFUygu"
      },
      "execution_count": null,
      "outputs": []
    },
    {
      "cell_type": "code",
      "source": [
        "import numpy as np\n",
        "from PIL import Image\n",
        "import matplotlib.pyplot as plt\n",
        "\n",
        "for i in range(16):\n",
        "  for j in range(16):\n",
        "    print(i,j)\n",
        "    im = Image.open('gdrive/MyDrive/GEE_DWL_2016/'+str(i)+'_'+str(j)+'.tif')\n",
        "    data = np.array(im)\n",
        "\n",
        "    r1, g1, b1 = 228, 150, 53 # Crops\n",
        "    r2, g2, b2 = 57, 125, 73 # trees\n",
        "\n",
        "    red, green, blue = data[:,:,0], data[:,:,1], data[:,:,2]\n",
        "    mask = (red == r1) & (green == g1) & (blue == b1)\n",
        "    data[:,:,:3][mask] = [r2, g2, b2]\n",
        "\n",
        "    r1, g1, b1 = 223, 195, 90 # Shrub and scrub\n",
        "    r2, g2, b2 = 57, 125, 73 # trees\n",
        "\n",
        "    red, green, blue = data[:,:,0], data[:,:,1], data[:,:,2]\n",
        "    mask = (red == r1) & (green == g1) & (blue == b1)\n",
        "    data[:,:,:3][mask] = [r2, g2, b2]\n",
        "\n",
        "    r1, g1, b1 = 179, 159, 225 # snow and ice\n",
        "    r2, g2, b2 = 65, 155, 223 # water\n",
        "\n",
        "    red, green, blue = data[:,:,0], data[:,:,1], data[:,:,2]\n",
        "    mask = (red == r1) & (green == g1) & (blue == b1)\n",
        "    data[:,:,:3][mask] = [r2, g2, b2]\n",
        "\n",
        "    r1, g1, b1 = 165, 155, 143 # bare\n",
        "    r2, g2, b2 = 196, 40, 27 # built\n",
        "\n",
        "    red, green, blue = data[:,:,0], data[:,:,1], data[:,:,2]\n",
        "    mask = (red == r1) & (green == g1) & (blue == b1)\n",
        "    data[:,:,:3][mask] = [r2, g2, b2]\n",
        "\n",
        "    r1, g1, b1 = 136, 176, 83 # grass\n",
        "    r2, g2, b2 = 57, 125, 73 # trees\n",
        "\n",
        "    red, green, blue = data[:,:,0], data[:,:,1], data[:,:,2]\n",
        "    mask = (red == r1) & (green == g1) & (blue == b1)\n",
        "    data[:,:,:3][mask] = [r2, g2, b2]\n",
        "\n",
        "    r1, g1, b1 = 122, 135, 198 # flooded vegetation\n",
        "    r2, g2, b2 = 57, 125, 73 # trees\n",
        "\n",
        "    red, green, blue = data[:,:,0], data[:,:,1], data[:,:,2]\n",
        "    mask = (red == r1) & (green == g1) & (blue == b1)\n",
        "    data[:,:,:3][mask] = [r2, g2, b2]\n",
        "\n",
        "    im = Image.fromarray(data)\n",
        "    im.save(\"gdrive/MyDrive/GEE_Dynamic_2016_three_class/\"+str(i)+'_'+str(j)+'.jpeg')"
      ],
      "metadata": {
        "id": "jBCsScshU70X"
      },
      "execution_count": null,
      "outputs": []
    },
    {
      "cell_type": "code",
      "source": [
        "import numpy as np\n",
        "from PIL import Image\n",
        "import matplotlib.pyplot as plt\n",
        "\n",
        "for i in range(16):\n",
        "  for j in range(16):\n",
        "    print(i,j)\n",
        "    im = Image.open('gdrive/MyDrive/GEE_DWL_2019/'+str(i)+'_'+str(j)+'.tif')\n",
        "    data = np.array(im)\n",
        "\n",
        "    r1, g1, b1 = 228, 150, 53 # Crops\n",
        "    r2, g2, b2 = 57, 125, 73 # trees\n",
        "\n",
        "    red, green, blue = data[:,:,0], data[:,:,1], data[:,:,2]\n",
        "    mask = (red == r1) & (green == g1) & (blue == b1)\n",
        "    data[:,:,:3][mask] = [r2, g2, b2]\n",
        "\n",
        "    r1, g1, b1 = 223, 195, 90 # Shrub and scrub\n",
        "    r2, g2, b2 = 57, 125, 73 # trees\n",
        "\n",
        "    red, green, blue = data[:,:,0], data[:,:,1], data[:,:,2]\n",
        "    mask = (red == r1) & (green == g1) & (blue == b1)\n",
        "    data[:,:,:3][mask] = [r2, g2, b2]\n",
        "\n",
        "    r1, g1, b1 = 179, 159, 225 # snow and ice\n",
        "    r2, g2, b2 = 65, 155, 223 # water\n",
        "\n",
        "    red, green, blue = data[:,:,0], data[:,:,1], data[:,:,2]\n",
        "    mask = (red == r1) & (green == g1) & (blue == b1)\n",
        "    data[:,:,:3][mask] = [r2, g2, b2]\n",
        "\n",
        "    r1, g1, b1 = 165, 155, 143 # bare\n",
        "    r2, g2, b2 = 196, 40, 27 # built\n",
        "\n",
        "    red, green, blue = data[:,:,0], data[:,:,1], data[:,:,2]\n",
        "    mask = (red == r1) & (green == g1) & (blue == b1)\n",
        "    data[:,:,:3][mask] = [r2, g2, b2]\n",
        "\n",
        "    r1, g1, b1 = 136, 176, 83 # grass\n",
        "    r2, g2, b2 = 57, 125, 73 # trees\n",
        "\n",
        "    red, green, blue = data[:,:,0], data[:,:,1], data[:,:,2]\n",
        "    mask = (red == r1) & (green == g1) & (blue == b1)\n",
        "    data[:,:,:3][mask] = [r2, g2, b2]\n",
        "\n",
        "    r1, g1, b1 = 122, 135, 198 # flooded vegetation\n",
        "    r2, g2, b2 = 57, 125, 73 # trees\n",
        "\n",
        "    red, green, blue = data[:,:,0], data[:,:,1], data[:,:,2]\n",
        "    mask = (red == r1) & (green == g1) & (blue == b1)\n",
        "    data[:,:,:3][mask] = [r2, g2, b2]\n",
        "\n",
        "    im = Image.fromarray(data)\n",
        "    im.save(\"gdrive/MyDrive/GEE_Dynamic_2019_three_class/\"+str(i)+'_'+str(j)+'.jpeg')"
      ],
      "metadata": {
        "id": "NQTHqUeYWxJn"
      },
      "execution_count": null,
      "outputs": []
    },
    {
      "cell_type": "code",
      "source": [],
      "metadata": {
        "id": "V8WVE3TMXuxu"
      },
      "execution_count": null,
      "outputs": []
    }
  ]
}