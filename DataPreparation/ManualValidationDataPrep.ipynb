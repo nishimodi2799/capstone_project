{
  "nbformat": 4,
  "nbformat_minor": 0,
  "metadata": {
    "colab": {
      "provenance": [],
      "machine_shape": "hm"
    },
    "kernelspec": {
      "name": "python3",
      "display_name": "Python 3"
    },
    "language_info": {
      "name": "python"
    },
    "gpuClass": "standard"
  },
  "cells": [
    {
      "cell_type": "code",
      "execution_count": null,
      "metadata": {
        "colab": {
          "base_uri": "https://localhost:8080/"
        },
        "id": "omiqqHPxTuwi",
        "outputId": "36ec805f-6214-49f4-c8c5-eed8e40145d8"
      },
      "outputs": [
        {
          "output_type": "stream",
          "name": "stdout",
          "text": [
            "Mounted at /content/gdrive/\n"
          ]
        }
      ],
      "source": [
        "from google.colab import drive\n",
        "drive.mount(\"/content/gdrive/\", force_remount=True)"
      ]
    },
    {
      "cell_type": "code",
      "source": [
        "import os\n",
        "man_img_list = os.listdir('gdrive/MyDrive/UNET/1024_patches/man_labels_images/')"
      ],
      "metadata": {
        "id": "Q_YWrhEQUILR"
      },
      "execution_count": null,
      "outputs": []
    },
    {
      "cell_type": "code",
      "source": [
        "man_img_list[0] = '0_12_2019.png'\n",
        "man_img_list[1] = '0_12_2016.png'"
      ],
      "metadata": {
        "id": "Ujrq4d1YWS7J"
      },
      "execution_count": null,
      "outputs": []
    },
    {
      "cell_type": "code",
      "source": [
        "man_img_list_2016 = ['0_12_2019.png', '10_7_2016.png', '12_2_2016.png', '7_15_2016.png', '4_5_2016.png', '2_1_2016.png', '7_12_2016.png']\n",
        "man_img_list_2019 = ['0_12_2016.png', '10_7_2019.png', '12_2_2019.png', '7_15_2019.png', '4_5_2019.png', '2_1_2019.png', '7_12_2019.png']"
      ],
      "metadata": {
        "id": "oXTRJiM6YveF"
      },
      "execution_count": null,
      "outputs": []
    },
    {
      "cell_type": "code",
      "source": [
        "import cv2\n",
        "import numpy as np\n",
        "man_dir = 'gdrive/MyDrive/UNET/1024_patches/man_labels_images/'\n",
        "for i in man_img_list_2016:\n",
        "  img = cv2.imread(man_dir+i)\n",
        "  img = cv2.resize(img, (1024,1024))\n",
        "  np.save('gdrive/MyDrive/UNET/1024_patches/man_labels/2016/'+i[0:-9]+'.npy', img)"
      ],
      "metadata": {
        "id": "qQFrfnu9VGXA"
      },
      "execution_count": null,
      "outputs": []
    },
    {
      "cell_type": "code",
      "source": [
        "import cv2\n",
        "import numpy as np\n",
        "man_dir = 'gdrive/MyDrive/UNET/1024_patches/man_labels_images/'\n",
        "for i in man_img_list_2019:\n",
        "  img = cv2.imread(man_dir+i)\n",
        "  img = cv2.resize(img, (1024,1024))\n",
        "  np.save('gdrive/MyDrive/UNET/1024_patches/man_labels/2019/'+i[0:-9]+'.npy', img)"
      ],
      "metadata": {
        "id": "__dULWFtVIOC"
      },
      "execution_count": null,
      "outputs": []
    },
    {
      "cell_type": "code",
      "source": [
        "new_img = cv2.imread('gdrive/MyDrive/UNET/1024_patches/man_labels_images/7_12_2016.png')"
      ],
      "metadata": {
        "id": "g5bDu-v9yuIn"
      },
      "execution_count": null,
      "outputs": []
    },
    {
      "cell_type": "code",
      "source": [
        "np.unique(new_img)"
      ],
      "metadata": {
        "colab": {
          "base_uri": "https://localhost:8080/"
        },
        "id": "JzNJFl9p8t7N",
        "outputId": "fef9ca7c-5399-47c0-c2e0-359c1dc7c836"
      },
      "execution_count": null,
      "outputs": [
        {
          "output_type": "execute_result",
          "data": {
            "text/plain": [
              "array([0, 1, 2], dtype=uint8)"
            ]
          },
          "metadata": {},
          "execution_count": 7
        }
      ]
    },
    {
      "cell_type": "code",
      "source": [
        "new_img_np = np.load('gdrive/MyDrive/UNET/1024_patches/man_labels/2019/'+'7_12'+'.npy')"
      ],
      "metadata": {
        "id": "s_4URTXf8wwR"
      },
      "execution_count": null,
      "outputs": []
    },
    {
      "cell_type": "code",
      "source": [
        "np.unique(new_img)"
      ],
      "metadata": {
        "colab": {
          "base_uri": "https://localhost:8080/"
        },
        "id": "rrRiP5Np9FMq",
        "outputId": "91e7e6da-77fa-4b3c-9c23-d67b875c68ad"
      },
      "execution_count": null,
      "outputs": [
        {
          "output_type": "execute_result",
          "data": {
            "text/plain": [
              "array([0, 1, 2], dtype=uint8)"
            ]
          },
          "metadata": {},
          "execution_count": 11
        }
      ]
    },
    {
      "cell_type": "code",
      "source": [],
      "metadata": {
        "id": "XUshaboO9GY3"
      },
      "execution_count": null,
      "outputs": []
    }
  ]
}